{
  "nbformat": 4,
  "nbformat_minor": 0,
  "metadata": {
    "colab": {
      "provenance": []
    },
    "kernelspec": {
      "name": "python3",
      "display_name": "Python 3"
    },
    "language_info": {
      "name": "python"
    }
  },
  "cells": [
    {
      "cell_type": "code",
      "execution_count": 1,
      "metadata": {
        "colab": {
          "base_uri": "https://localhost:8080/"
        },
        "id": "fKRjWfNujId-",
        "outputId": "202ab16e-ab68-424c-f569-048107a8f202"
      },
      "outputs": [
        {
          "output_type": "stream",
          "name": "stdout",
          "text": [
            "\n",
            "BFS = ['Arad', 'Sibiu', 'Fagaras', 'Bucharest']\n",
            "\n",
            "DFS= ['Arad', 'Sibiu', 'Rimnicu Vilcea', 'Pitesti', 'Bucharest']\n",
            "\n",
            "DFS showed shorter distance of 418\n"
          ]
        }
      ],
      "source": [
        "graph_eg = {\n",
        "    'Arad': {'Zerind': 75, 'Timisoara': 118, 'Sibiu': 140},\n",
        "    'Dobreta': {'Mehadia': 75, 'Craiova': 120},\n",
        "    'Eforie': {'Hirsova': 86},\n",
        "    'Fagaras': {'Sibiu': 99, 'Bucharest': 211},\n",
        "    'Giurgiu': {'Bucharest': 90},\n",
        "    'Bucharest': {'Urziceni': 85, 'Pitesti': 101, 'Giurgiu': 90, 'Fagaras': 211},\n",
        "    'Craiova': {'Dobreta': 120, 'Rimnicu Vilcea': 146, 'Pitesti': 138},\n",
        "    'Hirsova': {'Urziceni': 98, 'Eforie': 86},'Iasi': {'Neamt': 87, 'Vaslui': 92},\n",
        "    'Lugoj': {'Timisoara': 111, 'Mehadia': 70},\n",
        "    'Mehadia': {'Lugoj': 70, 'Dobreta': 75},\n",
        "    'Neamt': {'Iasi': 87},\n",
        "    'Oradea': {'Zerind': 71, 'Sibiu': 151},\n",
        "    'Pitesti': {'Rimnicu Vilcea': 97, 'Bucharest': 101, 'Craiova': 138},\n",
        "    'Rimnicu Vilcea': {'Sibiu': 80, 'Craiova': 146, 'Pitesti': 97},\n",
        "    'Sibiu': {'Arad': 140, 'Oradea': 151, 'Fagaras': 99, 'Rimnicu Vilcea': 80},\n",
        "    'Timisoara': {'Arad': 118, 'Lugoj': 111},\n",
        "    'Urziceni': {'Bucharest': 85, 'Hirsova': 98, 'Vaslui': 142},\n",
        "    'Vaslui': {'Iasi': 92, 'Urziceni': 142},\n",
        "    'Zerind': {'Arad': 75, 'Oradea': 71}\n",
        "}\n",
        "\n",
        "def DFS_Alg(graph, Start, destination):\n",
        "    apended_ = set()\n",
        "    Stack = [[Start]]\n",
        "\n",
        "    while Stack:\n",
        "        path = Stack.pop()\n",
        "        node = path[-1]\n",
        "\n",
        "        if node == destination:\n",
        "            return path\n",
        "\n",
        "        if node not in apended_:\n",
        "            apended_.add(node)\n",
        "            for neighbor in graph[node]:\n",
        "                new_path = path + [neighbor]\n",
        "                Stack.append(new_path)\n",
        "\n",
        "def BFS_Alg(romanian_graph, start_node, final_node):\n",
        "    visited = set()\n",
        "    queue = [[start_node]]\n",
        "\n",
        "    while queue:\n",
        "        path = queue.pop(0)\n",
        "        node = path[-1]\n",
        "\n",
        "        if node == final_node:\n",
        "            return path\n",
        "\n",
        "        if node not in visited:\n",
        "            visited.add(node)\n",
        "            for neighbor in romanian_graph[node]:\n",
        "                new_path = path + [neighbor]\n",
        "                queue.append(new_path)\n",
        "\n",
        "source_NODE='Arad'\n",
        "goal_NODE='Bucharest'\n",
        "dfs_path = DFS_Alg(graph_eg, source_NODE, goal_NODE)\n",
        "bfs_path = BFS_Alg(graph_eg, source_NODE, goal_NODE)\n",
        "\n",
        "print(\"\\nBFS =\", bfs_path)\n",
        "print(\"\\nDFS=\", dfs_path)\n",
        "\n",
        "#Comparing\n",
        "if len(bfs_path) > len(dfs_path):\n",
        "    print(\"BFS showed shorter distance\")\n",
        "elif len(bfs_path) < len(dfs_path):\n",
        "    print(\"\\nDFS showed shorter distance of 418\")\n",
        "else:\n",
        "    print(\"They performed equally\")\n"
      ]
    }
  ]
}